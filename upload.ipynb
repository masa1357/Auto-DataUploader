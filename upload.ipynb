{
 "cells": [
  {
   "cell_type": "code",
   "execution_count": null,
   "metadata": {},
   "outputs": [],
   "source": [
    "!zip ./Research.zip -r ./Research"
   ]
  },
  {
   "cell_type": "code",
   "execution_count": null,
   "metadata": {},
   "outputs": [],
   "source": [
    "# VPN 接続（多分Futicと同じ）\n",
    "!rasdial \"VPN名（自分で設定したやつ）\" \"ユーザ名\" \"パスワード\""
   ]
  },
  {
   "cell_type": "code",
   "execution_count": null,
   "metadata": {},
   "outputs": [],
   "source": [
    "import paramiko\n",
    "\n",
    "# アカウント（Futic）\n",
    "hostname = 'mprg.cs.chubu.ac.jp'\n",
    "username = 'ユーザ名'\n",
    "password = 'パスワード'"
   ]
  },
  {
   "cell_type": "code",
   "execution_count": null,
   "metadata": {},
   "outputs": [],
   "source": [
    "local_path = './Research.zip'\n",
    "remote_path = '/Users/（サーバー上のユーザ名）/Sites/Research.zip'\n",
    "unzip_command = f'unzip -o {remote_path} -d /Users/（サーバー上のユーザ名）/Sites/'\n",
    "\n",
    "# Paramiko SSHクライアントのセットアップ\n",
    "ssh = paramiko.SSHClient()\n",
    "ssh.set_missing_host_key_policy(paramiko.AutoAddPolicy())\n",
    "\n",
    "try:\n",
    "    # サーバー接続\n",
    "    ssh.connect(hostname, username=username, password=password)\n",
    "\n",
    "    # SFTP開始\n",
    "    sftp = ssh.open_sftp()\n",
    "\n",
    "    # ファイルアップロード\n",
    "    sftp.put(local_path, remote_path)\n",
    "\n",
    "    # SFTP終了\n",
    "    sftp.close()\n",
    "\n",
    "    # unzip実行\n",
    "    stdin, stdout, stderr = ssh.exec_command(unzip_command)\n",
    "    print(stdout.read().decode('utf-8'))  # コマンドの実行結果を表示\n",
    "\n",
    "    # sshの終了\n",
    "    ssh.close()\n",
    "except Exception as e:\n",
    "    print(f\"エラーが発生しました: {e}\")"
   ]
  },
  {
   "cell_type": "code",
   "execution_count": null,
   "metadata": {},
   "outputs": [],
   "source": [
    "# VPN 切断\n",
    "!rasdial \"VPN名（自分で設定したやつ）\" \"ユーザ名\" \"パスワード\" /disconnect"
   ]
  }
 ],
 "metadata": {
  "kernelspec": {
   "display_name": "Python 3",
   "language": "python",
   "name": "python3"
  },
  "language_info": {
   "codemirror_mode": {
    "name": "ipython",
    "version": 3
   },
   "file_extension": ".py",
   "mimetype": "text/x-python",
   "name": "python",
   "nbconvert_exporter": "python",
   "pygments_lexer": "ipython3",
   "version": "3.11.3"
  }
 },
 "nbformat": 4,
 "nbformat_minor": 2
}
